{
  "nbformat": 4,
  "nbformat_minor": 0,
  "metadata": {
    "colab": {
      "provenance": [],
      "include_colab_link": true
    },
    "kernelspec": {
      "name": "python3",
      "display_name": "Python 3"
    },
    "language_info": {
      "name": "python"
    }
  },
  "cells": [
    {
      "cell_type": "markdown",
      "metadata": {
        "id": "view-in-github",
        "colab_type": "text"
      },
      "source": [
        "<a href=\"https://colab.research.google.com/github/Amirsaj/Automated_Statistics/blob/main/automateStat.ipynb\" target=\"_parent\"><img src=\"https://colab.research.google.com/assets/colab-badge.svg\" alt=\"Open In Colab\"/></a>"
      ]
    },
    {
      "cell_type": "code",
      "execution_count": null,
      "metadata": {
        "id": "QOPGg6QUeON-",
        "colab": {
          "base_uri": "https://localhost:8080/",
          "height": 321
        },
        "outputId": "b312be15-8cf1-4efa-c201-019e7c90916d"
      },
      "outputs": [
        {
          "output_type": "error",
          "ename": "FileNotFoundError",
          "evalue": "[Errno 2] No such file or directory: 'data.xlsx'",
          "traceback": [
            "\u001b[0;31m---------------------------------------------------------------------------\u001b[0m",
            "\u001b[0;31mFileNotFoundError\u001b[0m                         Traceback (most recent call last)",
            "\u001b[0;32m<ipython-input-1-f855fb8f2637>\u001b[0m in \u001b[0;36m<cell line: 6>\u001b[0;34m()\u001b[0m\n\u001b[1;32m      4\u001b[0m \u001b[0;31m# Load the Excel file\u001b[0m\u001b[0;34m\u001b[0m\u001b[0;34m\u001b[0m\u001b[0m\n\u001b[1;32m      5\u001b[0m \u001b[0mfile_path\u001b[0m \u001b[0;34m=\u001b[0m \u001b[0;34m'data.xlsx'\u001b[0m\u001b[0;34m\u001b[0m\u001b[0;34m\u001b[0m\u001b[0m\n\u001b[0;32m----> 6\u001b[0;31m \u001b[0mdata\u001b[0m \u001b[0;34m=\u001b[0m \u001b[0mpd\u001b[0m\u001b[0;34m.\u001b[0m\u001b[0mread_excel\u001b[0m\u001b[0;34m(\u001b[0m\u001b[0mfile_path\u001b[0m\u001b[0;34m)\u001b[0m\u001b[0;34m\u001b[0m\u001b[0;34m\u001b[0m\u001b[0m\n\u001b[0m",
            "\u001b[0;32m/usr/local/lib/python3.10/dist-packages/pandas/io/excel/_base.py\u001b[0m in \u001b[0;36mread_excel\u001b[0;34m(io, sheet_name, header, names, index_col, usecols, dtype, engine, converters, true_values, false_values, skiprows, nrows, na_values, keep_default_na, na_filter, verbose, parse_dates, date_parser, date_format, thousands, decimal, comment, skipfooter, storage_options, dtype_backend)\u001b[0m\n\u001b[1;32m    476\u001b[0m     \u001b[0;32mif\u001b[0m \u001b[0;32mnot\u001b[0m \u001b[0misinstance\u001b[0m\u001b[0;34m(\u001b[0m\u001b[0mio\u001b[0m\u001b[0;34m,\u001b[0m \u001b[0mExcelFile\u001b[0m\u001b[0;34m)\u001b[0m\u001b[0;34m:\u001b[0m\u001b[0;34m\u001b[0m\u001b[0;34m\u001b[0m\u001b[0m\n\u001b[1;32m    477\u001b[0m         \u001b[0mshould_close\u001b[0m \u001b[0;34m=\u001b[0m \u001b[0;32mTrue\u001b[0m\u001b[0;34m\u001b[0m\u001b[0;34m\u001b[0m\u001b[0m\n\u001b[0;32m--> 478\u001b[0;31m         \u001b[0mio\u001b[0m \u001b[0;34m=\u001b[0m \u001b[0mExcelFile\u001b[0m\u001b[0;34m(\u001b[0m\u001b[0mio\u001b[0m\u001b[0;34m,\u001b[0m \u001b[0mstorage_options\u001b[0m\u001b[0;34m=\u001b[0m\u001b[0mstorage_options\u001b[0m\u001b[0;34m,\u001b[0m \u001b[0mengine\u001b[0m\u001b[0;34m=\u001b[0m\u001b[0mengine\u001b[0m\u001b[0;34m)\u001b[0m\u001b[0;34m\u001b[0m\u001b[0;34m\u001b[0m\u001b[0m\n\u001b[0m\u001b[1;32m    479\u001b[0m     \u001b[0;32melif\u001b[0m \u001b[0mengine\u001b[0m \u001b[0;32mand\u001b[0m \u001b[0mengine\u001b[0m \u001b[0;34m!=\u001b[0m \u001b[0mio\u001b[0m\u001b[0;34m.\u001b[0m\u001b[0mengine\u001b[0m\u001b[0;34m:\u001b[0m\u001b[0;34m\u001b[0m\u001b[0;34m\u001b[0m\u001b[0m\n\u001b[1;32m    480\u001b[0m         raise ValueError(\n",
            "\u001b[0;32m/usr/local/lib/python3.10/dist-packages/pandas/io/excel/_base.py\u001b[0m in \u001b[0;36m__init__\u001b[0;34m(self, path_or_buffer, engine, storage_options)\u001b[0m\n\u001b[1;32m   1494\u001b[0m                 \u001b[0mext\u001b[0m \u001b[0;34m=\u001b[0m \u001b[0;34m\"xls\"\u001b[0m\u001b[0;34m\u001b[0m\u001b[0;34m\u001b[0m\u001b[0m\n\u001b[1;32m   1495\u001b[0m             \u001b[0;32melse\u001b[0m\u001b[0;34m:\u001b[0m\u001b[0;34m\u001b[0m\u001b[0;34m\u001b[0m\u001b[0m\n\u001b[0;32m-> 1496\u001b[0;31m                 ext = inspect_excel_format(\n\u001b[0m\u001b[1;32m   1497\u001b[0m                     \u001b[0mcontent_or_path\u001b[0m\u001b[0;34m=\u001b[0m\u001b[0mpath_or_buffer\u001b[0m\u001b[0;34m,\u001b[0m \u001b[0mstorage_options\u001b[0m\u001b[0;34m=\u001b[0m\u001b[0mstorage_options\u001b[0m\u001b[0;34m\u001b[0m\u001b[0;34m\u001b[0m\u001b[0m\n\u001b[1;32m   1498\u001b[0m                 )\n",
            "\u001b[0;32m/usr/local/lib/python3.10/dist-packages/pandas/io/excel/_base.py\u001b[0m in \u001b[0;36minspect_excel_format\u001b[0;34m(content_or_path, storage_options)\u001b[0m\n\u001b[1;32m   1369\u001b[0m         \u001b[0mcontent_or_path\u001b[0m \u001b[0;34m=\u001b[0m \u001b[0mBytesIO\u001b[0m\u001b[0;34m(\u001b[0m\u001b[0mcontent_or_path\u001b[0m\u001b[0;34m)\u001b[0m\u001b[0;34m\u001b[0m\u001b[0;34m\u001b[0m\u001b[0m\n\u001b[1;32m   1370\u001b[0m \u001b[0;34m\u001b[0m\u001b[0m\n\u001b[0;32m-> 1371\u001b[0;31m     with get_handle(\n\u001b[0m\u001b[1;32m   1372\u001b[0m         \u001b[0mcontent_or_path\u001b[0m\u001b[0;34m,\u001b[0m \u001b[0;34m\"rb\"\u001b[0m\u001b[0;34m,\u001b[0m \u001b[0mstorage_options\u001b[0m\u001b[0;34m=\u001b[0m\u001b[0mstorage_options\u001b[0m\u001b[0;34m,\u001b[0m \u001b[0mis_text\u001b[0m\u001b[0;34m=\u001b[0m\u001b[0;32mFalse\u001b[0m\u001b[0;34m\u001b[0m\u001b[0;34m\u001b[0m\u001b[0m\n\u001b[1;32m   1373\u001b[0m     ) as handle:\n",
            "\u001b[0;32m/usr/local/lib/python3.10/dist-packages/pandas/io/common.py\u001b[0m in \u001b[0;36mget_handle\u001b[0;34m(path_or_buf, mode, encoding, compression, memory_map, is_text, errors, storage_options)\u001b[0m\n\u001b[1;32m    866\u001b[0m         \u001b[0;32melse\u001b[0m\u001b[0;34m:\u001b[0m\u001b[0;34m\u001b[0m\u001b[0;34m\u001b[0m\u001b[0m\n\u001b[1;32m    867\u001b[0m             \u001b[0;31m# Binary mode\u001b[0m\u001b[0;34m\u001b[0m\u001b[0;34m\u001b[0m\u001b[0m\n\u001b[0;32m--> 868\u001b[0;31m             \u001b[0mhandle\u001b[0m \u001b[0;34m=\u001b[0m \u001b[0mopen\u001b[0m\u001b[0;34m(\u001b[0m\u001b[0mhandle\u001b[0m\u001b[0;34m,\u001b[0m \u001b[0mioargs\u001b[0m\u001b[0;34m.\u001b[0m\u001b[0mmode\u001b[0m\u001b[0;34m)\u001b[0m\u001b[0;34m\u001b[0m\u001b[0;34m\u001b[0m\u001b[0m\n\u001b[0m\u001b[1;32m    869\u001b[0m         \u001b[0mhandles\u001b[0m\u001b[0;34m.\u001b[0m\u001b[0mappend\u001b[0m\u001b[0;34m(\u001b[0m\u001b[0mhandle\u001b[0m\u001b[0;34m)\u001b[0m\u001b[0;34m\u001b[0m\u001b[0;34m\u001b[0m\u001b[0m\n\u001b[1;32m    870\u001b[0m \u001b[0;34m\u001b[0m\u001b[0m\n",
            "\u001b[0;31mFileNotFoundError\u001b[0m: [Errno 2] No such file or directory: 'data.xlsx'"
          ]
        }
      ],
      "source": [
        "import pandas as pd\n",
        "import numpy as np\n",
        "from scipy import stats\n",
        "# Load the Excel file\n",
        "file_path = 'data.xlsx'\n",
        "data = pd.read_excel(file_path)"
      ]
    },
    {
      "cell_type": "code",
      "source": [
        "columns_present = data.columns\n",
        "numerical_columns = ['asa_rating_c', 'BMI', 'Number Mandible Sites Fx','age']\n",
        "missing_columns = [col for col in numerical_columns if col not in columns_present]\n",
        "column_data_types = data[numerical_columns].dtypes if not missing_columns else None\n",
        "missing_columns, column_data_types"
      ],
      "metadata": {
        "colab": {
          "base_uri": "https://localhost:8080/"
        },
        "id": "APz3xvBJedL0",
        "outputId": "dd61114c-cbe5-4f65-9c12-a8c973b0e0f0"
      },
      "execution_count": null,
      "outputs": [
        {
          "output_type": "execute_result",
          "data": {
            "text/plain": [
              "(['age'], None)"
            ]
          },
          "metadata": {},
          "execution_count": 4
        }
      ]
    },
    {
      "cell_type": "code",
      "source": [
        "from datetime import datetime\n",
        "\n",
        "# Calculate age from birth_date\n",
        "today = datetime.today()\n",
        "data['age'] = data['birth_date'].apply(lambda x: today.year - x.year - ((today.month, today.day) < (x.month, x.day)))\n",
        "\n",
        "data.drop('birth_date', axis=1, inplace=True)\n"
      ],
      "metadata": {
        "id": "wnYyHTz4hBz8"
      },
      "execution_count": null,
      "outputs": []
    },
    {
      "cell_type": "code",
      "source": [
        "import pandas as pd\n",
        "\n",
        "# Define a DataFrame with 5 columns: 'columnname', 'numberNo', 'percentNO', 'numberYes', 'percentYes'\n",
        "resDF = pd.DataFrame(columns=['columnname', 'numberNo', 'percentNO', 'numberYes', 'percentYes'])\n"
      ],
      "metadata": {
        "id": "9fKzDs1rVTSQ"
      },
      "execution_count": null,
      "outputs": []
    },
    {
      "cell_type": "code",
      "source": [
        "import pandas as pd\n",
        "\n",
        "# Data lists as described\n",
        "catcolumns = data.columns\n",
        "infokol = []\n",
        "colname = []\n",
        "resultcol = 'revision required (secondary outcome)'\n",
        "for j in catcolumns:\n",
        "    if j in [\"asa_rating_c\", \"BMI\", \"Number Mandible Sites Fx\",'SurgicalTime'] or j in numerical_columns:\n",
        "      continue\n",
        "    print(j)\n",
        "    # Initial entry for the column itself with blank data (could adjust if needed)\n",
        "    colname.append(j)\n",
        "    infokol.append([\"\", \"\", \"\", \"\"])\n",
        "\n",
        "    # Crosstab calculations\n",
        "    ctdf = pd.crosstab(data[j], data[resultcol], normalize='index')\n",
        "    ctdfn = pd.crosstab(data[j], data[resultcol])\n",
        "\n",
        "    for i in ctdf.index:\n",
        "        colname.append(i)  # Adding category value to the column names\n",
        "        info = [\n",
        "            ctdfn.loc[i, 'no'] if 'no' in ctdfn.columns else 0,\n",
        "            ctdf.loc[i, 'no'] if 'no' in ctdf.columns else 0,\n",
        "            ctdfn.loc[i, 'yes'] if 'yes' in ctdfn.columns else 0,\n",
        "            ctdf.loc[i, 'yes'] if 'yes' in ctdf.columns else 0\n",
        "        ]\n",
        "        infokol.append(info)\n",
        "\n",
        "# Creating DataFrame\n",
        "resDF = pd.DataFrame(infokol, columns=['numberNo', 'percentNO', 'numberYes', 'percentYes'])\n",
        "resDF['columnname'] = colname  # Assigning column names to a specific column if that was the intent\n",
        "\n",
        "# Display the DataFrame\n",
        "print(resDF.head())\n"
      ],
      "metadata": {
        "colab": {
          "base_uri": "https://localhost:8080/"
        },
        "id": "DEELfP70QRg3",
        "outputId": "7c200ae4-053e-4f62-c896-002e236218b8"
      },
      "execution_count": null,
      "outputs": [
        {
          "output_type": "stream",
          "name": "stdout",
          "text": [
            "sex\n",
            "race\n",
            "hispanic_c\n",
            "ethnicity\n",
            "state_name\n",
            "zip\n",
            "mallampati_score\n",
            "primary_surgeons\n",
            "tobacco\n",
            "EtOH\n",
            "Diabetes\n",
            "mechanism\n",
            "symphysis/parasymphysis\n",
            "body\n",
            "angle/ramus\n",
            "condyle\n",
            "Fracture complexity\n",
            "other CMF injury\n",
            "MMF\n",
            "plating\n",
            "approach\n",
            "Complication (primary outcome)\n",
            "Malocclusion\n",
            "Plate Failure\n",
            "Infection/hematoma\n",
            "hardware exposure\n",
            "non-union\n",
            "no data/outside\n",
            "other\n",
            "revision required (secondary outcome)\n",
            "revision surgery type\n",
            "  numberNo percentNO numberYes percentYes                        columnname\n",
            "0                                                                       sex\n",
            "1       77  0.895349         9   0.104651                            Female\n",
            "2      185  0.889423        23   0.110577                              Male\n",
            "3                                                                      race\n",
            "4        1       1.0         0        0.0  American Indian or Alaska Native\n"
          ]
        }
      ]
    },
    {
      "cell_type": "code",
      "source": [
        "# resDF.to_csv('crosstab_results.csv', index=False)"
      ],
      "metadata": {
        "id": "9_Mwch7hWptA"
      },
      "execution_count": null,
      "outputs": []
    },
    {
      "cell_type": "code",
      "source": [
        "import pandas as pd\n",
        "import numpy as np\n",
        "from scipy import stats\n",
        "\n",
        "def calculate_stats(exposed_yes, exposed_no, control_yes, control_no):\n",
        "    # Check if there are no cases in either exposed or control group\n",
        "    if exposed_yes == 0 and control_yes == 0:\n",
        "        return [\"-\", \"-\", \"-\", \"-\"]\n",
        "\n",
        "    # Initialize variables to handle exceptions\n",
        "    odds_ratio, ci_lower, ci_upper, chi2, p_value = \"-\", \"-\", \"-\", \"-\", \"-\"\n",
        "\n",
        "    # Calculate odds ratio, handling division by zero\n",
        "    try:\n",
        "        odds_ratio = (exposed_yes * control_no) / (exposed_no * control_yes)\n",
        "    except ZeroDivisionError:\n",
        "        odds_ratio = \"-\"\n",
        "\n",
        "    # Calculate chi-squared test and p-value\n",
        "    try:\n",
        "        table = np.array([[exposed_yes, exposed_no], [control_yes, control_no]])\n",
        "        chi2, p_value, _, _ = stats.chi2_contingency(table)\n",
        "    except:\n",
        "        chi2, p_value = \"-\", \"-\"\n",
        "\n",
        "    # Calculate confidence interval for the odds ratio\n",
        "    if isinstance(odds_ratio, float):\n",
        "        try:\n",
        "            se_of_log_odds_ratio = np.sqrt((1/exposed_yes) + (1/exposed_no) + (1/control_yes) + (1/control_no))\n",
        "            ci_lower = np.exp(np.log(odds_ratio) - 1.96 * se_of_log_odds_ratio)\n",
        "            ci_upper = np.exp(np.log(odds_ratio) + 1.96 * se_of_log_odds_ratio)\n",
        "        except:\n",
        "            ci_lower, ci_upper = \"-\", \"-\"\n",
        "\n",
        "    # Return the results\n",
        "    return [odds_ratio if odds_ratio != \"-\" else odds_ratio,\n",
        "            (ci_lower if ci_lower != \"-\" else \"-\", ci_upper if ci_upper != \"-\" else \"-\"),\n",
        "            chi2, p_value]\n"
      ],
      "metadata": {
        "id": "4oINx-njQnhP"
      },
      "execution_count": null,
      "outputs": []
    },
    {
      "cell_type": "code",
      "source": [
        "data[resultcol].value_counts()"
      ],
      "metadata": {
        "colab": {
          "base_uri": "https://localhost:8080/"
        },
        "id": "BzJ7TR11cFkV",
        "outputId": "12ab7645-51ce-4753-feae-30a7c1099676"
      },
      "execution_count": null,
      "outputs": [
        {
          "output_type": "execute_result",
          "data": {
            "text/plain": [
              "revision required (secondary outcome)\n",
              "no     262\n",
              "yes     32\n",
              "Name: count, dtype: int64"
            ]
          },
          "metadata": {},
          "execution_count": 10
        }
      ]
    },
    {
      "cell_type": "code",
      "source": [
        "total_control = data[resultcol].value_counts()['no']\n",
        "total_exposed =  data[resultcol].value_counts()['yes']"
      ],
      "metadata": {
        "id": "40ijdKeg7ik1"
      },
      "execution_count": null,
      "outputs": []
    },
    {
      "cell_type": "code",
      "source": [
        "info = []\n",
        "for i in range(len(resDF)):\n",
        "    if resDF['numberYes'][i] == \"\":  # Check if numberYes is zero, after coercion to numeric\n",
        "        info.append([0, 0, 0, 0])\n",
        "    else:\n",
        "        # print(resDF['numberYes'][i], total_exposed - resDF['numberYes'][i],\n",
        "        #                          resDF['numberNo'][i], total_control - resDF['numberNo'][i])\n",
        "        result = calculate_stats(resDF['numberYes'][i], total_exposed - resDF['numberYes'][i],\n",
        "                                 resDF['numberNo'][i], total_control - resDF['numberNo'][i])\n",
        "        info.append(result)"
      ],
      "metadata": {
        "colab": {
          "base_uri": "https://localhost:8080/"
        },
        "id": "R3yuL4Sca6a1",
        "outputId": "7166bc67-666a-4d5b-c747-ba0a919af2bb"
      },
      "execution_count": null,
      "outputs": [
        {
          "output_type": "stream",
          "name": "stderr",
          "text": [
            "<ipython-input-9-250c0a72e3f1>:29: RuntimeWarning: divide by zero encountered in scalar divide\n",
            "  se_of_log_odds_ratio = np.sqrt((1/exposed_yes) + (1/exposed_no) + (1/control_yes) + (1/control_no))\n",
            "<ipython-input-9-250c0a72e3f1>:30: RuntimeWarning: divide by zero encountered in log\n",
            "  ci_lower = np.exp(np.log(odds_ratio) - 1.96 * se_of_log_odds_ratio)\n",
            "<ipython-input-9-250c0a72e3f1>:31: RuntimeWarning: divide by zero encountered in log\n",
            "  ci_upper = np.exp(np.log(odds_ratio) + 1.96 * se_of_log_odds_ratio)\n",
            "<ipython-input-9-250c0a72e3f1>:31: RuntimeWarning: invalid value encountered in scalar add\n",
            "  ci_upper = np.exp(np.log(odds_ratio) + 1.96 * se_of_log_odds_ratio)\n",
            "<ipython-input-9-250c0a72e3f1>:15: RuntimeWarning: divide by zero encountered in scalar divide\n",
            "  odds_ratio = (exposed_yes * control_no) / (exposed_no * control_yes)\n",
            "<ipython-input-9-250c0a72e3f1>:30: RuntimeWarning: invalid value encountered in scalar subtract\n",
            "  ci_lower = np.exp(np.log(odds_ratio) - 1.96 * se_of_log_odds_ratio)\n"
          ]
        }
      ]
    },
    {
      "cell_type": "code",
      "source": [
        "new_data = pd.DataFrame(info, columns=[\"oddsratio\", \"CI\", \"chi2\", \"p_value\"])\n",
        "\n",
        "# Assuming your existing DataFrame is named df\n",
        "# Append the new data\n",
        "\n",
        "# Display the updated DataFrame"
      ],
      "metadata": {
        "id": "9sXgr1egan4D"
      },
      "execution_count": null,
      "outputs": []
    },
    {
      "cell_type": "code",
      "source": [
        "for i in new_data.columns:\n",
        "  resDF[i] = new_data[i]"
      ],
      "metadata": {
        "id": "DqUHL30WhJ7A"
      },
      "execution_count": null,
      "outputs": []
    },
    {
      "cell_type": "code",
      "source": [
        "resDF.to_csv(resultcol+'categoricall.csv', index=False)"
      ],
      "metadata": {
        "id": "l0OusAOsaWVw"
      },
      "execution_count": null,
      "outputs": []
    },
    {
      "cell_type": "markdown",
      "source": [],
      "metadata": {
        "id": "cPghbG364arA"
      }
    },
    {
      "cell_type": "code",
      "source": [
        "numerical_columns = ['asa_rating_c', 'BMI', 'Number Mandible Sites Fx','age']\n"
      ],
      "metadata": {
        "id": "M2VwT5G0rbi0"
      },
      "execution_count": null,
      "outputs": []
    },
    {
      "cell_type": "code",
      "source": [
        "import pandas as pd\n",
        "from scipy import stats\n",
        "import statsmodels.api as sm\n",
        "\n",
        "def analyze_data(df, x_col, y_col):\n",
        "    df.dropna(subset=[x_col, y_col], inplace=True)\n",
        "\n",
        "    # Checking if columns exist in the dataframe\n",
        "    if x_col not in df or y_col not in df:\n",
        "        return \"Column names are incorrect or do not exist in the dataframe.\"\n",
        "\n",
        "    results = {}\n",
        "\n",
        "    # Convert y_col to categorical if it's not numeric\n",
        "    if df[y_col].dtype == 'object':\n",
        "        df[y_col] = pd.Categorical(df[y_col]).codes\n",
        "        results['info'] = f\"{y_col} converted to numeric codes.\"\n",
        "\n",
        "    # 1. Averages for x_col and y_col\n",
        "    results['average_x'] = df[x_col].mean()\n",
        "    results['average_y'] = df[y_col].mean()\n",
        "\n",
        "    # 2. 0.25 and 0.75 Quantiles for x_col and y_col\n",
        "    results['0.25_quantile_x'] = df[x_col].quantile(0.25)\n",
        "    results['0.75_quantile_x'] = df[x_col].quantile(0.75)\n",
        "    results['0.25_quantile_y'] = df[y_col].quantile(0.25)\n",
        "    results['0.75_quantile_y'] = df[y_col].quantile(0.75)\n",
        "\n",
        "    # 3. T-test between x_col and y_col\n",
        "    t_test_result = stats.ttest_ind(df[x_col], df[y_col], equal_var=False)\n",
        "    results['t_test_statistic'] = t_test_result.statistic\n",
        "    results['t_test_p_value'] = t_test_result.pvalue\n",
        "\n",
        "    # 4. Logistic Regression\n",
        "    # Adding a constant term for intercept\n",
        "    df['intercept'] = 1\n",
        "    logit_model = sm.Logit(df[y_col], df[['intercept', x_col]])\n",
        "    try:\n",
        "        logit_result = logit_model.fit(disp=0)  # disp=0 suppresses fitting output\n",
        "        results['logit_coefficients'] = logit_result.params\n",
        "        results['logit_pvalues'] = logit_result.pvalues\n",
        "    except Exception as e:\n",
        "        results['logit_error'] = str(e)\n",
        "\n",
        "    return results\n"
      ],
      "metadata": {
        "id": "aZZLeMeWJ_cM"
      },
      "execution_count": null,
      "outputs": []
    },
    {
      "cell_type": "markdown",
      "source": [],
      "metadata": {
        "id": "Fh7EQL5kcyBz"
      }
    },
    {
      "cell_type": "code",
      "source": [
        "filtered_columns = [col for col in list(resDF.columns) if col != 'columnname']\n",
        "irani = ['columnname']\n",
        "for i in filtered_columns:\n",
        "    irani.append(i)\n",
        "resDF = resDF.reindex(columns=irani)"
      ],
      "metadata": {
        "id": "nim4jablcPGe"
      },
      "execution_count": null,
      "outputs": []
    },
    {
      "cell_type": "markdown",
      "source": [],
      "metadata": {
        "id": "pj2RoseOcymC"
      }
    },
    {
      "cell_type": "code",
      "source": [
        "layer1 = [\"\",'average_x',\n",
        "'0.25_quantile_x',\n",
        "'0.75_quantile_x',\n",
        "'t_test_p_value',\n",
        "'logit_coefficients',\n",
        "'',\"\",\"\"]\n",
        "layer = []\n",
        "for i in numerical_columns:\n",
        "  numdict = analyze_data(data,i,resultcol)\n",
        "  layer.append([i,\n",
        "      numdict['average_x'],\n",
        "        numdict['0.25_quantile_x'],\n",
        "        numdict['0.75_quantile_x'],\n",
        "        numdict['t_test_p_value'],\n",
        "        numdict['logit_coefficients'],\"\",\"\",\"\"])"
      ],
      "metadata": {
        "id": "ydzerMQnb7cw"
      },
      "execution_count": null,
      "outputs": []
    },
    {
      "cell_type": "code",
      "source": [
        "pd.DataFrame(layer,columns=layer1 ).to_csv(resultcol+\"Numerical.csv\")"
      ],
      "metadata": {
        "id": "QA3yPBBKiKsc"
      },
      "execution_count": null,
      "outputs": []
    },
    {
      "cell_type": "code",
      "source": [],
      "metadata": {
        "id": "tce-3mtmJNeC"
      },
      "execution_count": null,
      "outputs": []
    },
    {
      "cell_type": "code",
      "source": [],
      "metadata": {
        "id": "akFnX5WhZRt5"
      },
      "execution_count": null,
      "outputs": []
    },
    {
      "cell_type": "code",
      "source": [],
      "metadata": {
        "id": "ShgQocXIoBkP",
        "colab": {
          "base_uri": "https://localhost:8080/",
          "height": 332
        },
        "outputId": "f8af6ea7-a1eb-4257-fe0b-4bfad5fc70fc"
      },
      "execution_count": null,
      "outputs": [
        {
          "output_type": "error",
          "ename": "AttributeError",
          "evalue": "'DataFrame' object has no attribute 'append'",
          "traceback": [
            "\u001b[0;31m---------------------------------------------------------------------------\u001b[0m",
            "\u001b[0;31mAttributeError\u001b[0m                            Traceback (most recent call last)",
            "\u001b[0;32m<ipython-input-2-f6a33100f366>\u001b[0m in \u001b[0;36m<cell line: 34>\u001b[0;34m()\u001b[0m\n\u001b[1;32m     39\u001b[0m     \u001b[0mctdfn\u001b[0m \u001b[0;34m=\u001b[0m \u001b[0mpd\u001b[0m\u001b[0;34m.\u001b[0m\u001b[0mcrosstab\u001b[0m\u001b[0;34m(\u001b[0m\u001b[0mdata\u001b[0m\u001b[0;34m[\u001b[0m\u001b[0mj\u001b[0m\u001b[0;34m]\u001b[0m\u001b[0;34m,\u001b[0m \u001b[0mdata\u001b[0m\u001b[0;34m[\u001b[0m\u001b[0mresultcol\u001b[0m\u001b[0;34m]\u001b[0m\u001b[0;34m)\u001b[0m\u001b[0;34m\u001b[0m\u001b[0;34m\u001b[0m\u001b[0m\n\u001b[1;32m     40\u001b[0m     \u001b[0;32mfor\u001b[0m \u001b[0mi\u001b[0m \u001b[0;32min\u001b[0m \u001b[0mctdf\u001b[0m\u001b[0;34m.\u001b[0m\u001b[0mindex\u001b[0m\u001b[0;34m:\u001b[0m\u001b[0;34m\u001b[0m\u001b[0;34m\u001b[0m\u001b[0m\n\u001b[0;32m---> 41\u001b[0;31m         resDF = resDF.append({\n\u001b[0m\u001b[1;32m     42\u001b[0m             \u001b[0;34m'columnname'\u001b[0m\u001b[0;34m:\u001b[0m \u001b[0mi\u001b[0m\u001b[0;34m,\u001b[0m\u001b[0;34m\u001b[0m\u001b[0;34m\u001b[0m\u001b[0m\n\u001b[1;32m     43\u001b[0m             \u001b[0;34m'numberNo'\u001b[0m\u001b[0;34m:\u001b[0m \u001b[0mctdfn\u001b[0m\u001b[0;34m.\u001b[0m\u001b[0mloc\u001b[0m\u001b[0;34m[\u001b[0m\u001b[0mi\u001b[0m\u001b[0;34m,\u001b[0m \u001b[0;34m'no'\u001b[0m\u001b[0;34m]\u001b[0m \u001b[0;32mif\u001b[0m \u001b[0;34m'no'\u001b[0m \u001b[0;32min\u001b[0m \u001b[0mctdfn\u001b[0m\u001b[0;34m.\u001b[0m\u001b[0mcolumns\u001b[0m \u001b[0;32melse\u001b[0m \u001b[0;36m0\u001b[0m\u001b[0;34m,\u001b[0m\u001b[0;34m\u001b[0m\u001b[0;34m\u001b[0m\u001b[0m\n",
            "\u001b[0;32m/usr/local/lib/python3.10/dist-packages/pandas/core/generic.py\u001b[0m in \u001b[0;36m__getattr__\u001b[0;34m(self, name)\u001b[0m\n\u001b[1;32m   5987\u001b[0m         ):\n\u001b[1;32m   5988\u001b[0m             \u001b[0;32mreturn\u001b[0m \u001b[0mself\u001b[0m\u001b[0;34m[\u001b[0m\u001b[0mname\u001b[0m\u001b[0;34m]\u001b[0m\u001b[0;34m\u001b[0m\u001b[0;34m\u001b[0m\u001b[0m\n\u001b[0;32m-> 5989\u001b[0;31m         \u001b[0;32mreturn\u001b[0m \u001b[0mobject\u001b[0m\u001b[0;34m.\u001b[0m\u001b[0m__getattribute__\u001b[0m\u001b[0;34m(\u001b[0m\u001b[0mself\u001b[0m\u001b[0;34m,\u001b[0m \u001b[0mname\u001b[0m\u001b[0;34m)\u001b[0m\u001b[0;34m\u001b[0m\u001b[0;34m\u001b[0m\u001b[0m\n\u001b[0m\u001b[1;32m   5990\u001b[0m \u001b[0;34m\u001b[0m\u001b[0m\n\u001b[1;32m   5991\u001b[0m     \u001b[0;32mdef\u001b[0m \u001b[0m__setattr__\u001b[0m\u001b[0;34m(\u001b[0m\u001b[0mself\u001b[0m\u001b[0;34m,\u001b[0m \u001b[0mname\u001b[0m\u001b[0;34m:\u001b[0m \u001b[0mstr\u001b[0m\u001b[0;34m,\u001b[0m \u001b[0mvalue\u001b[0m\u001b[0;34m)\u001b[0m \u001b[0;34m->\u001b[0m \u001b[0;32mNone\u001b[0m\u001b[0;34m:\u001b[0m\u001b[0;34m\u001b[0m\u001b[0;34m\u001b[0m\u001b[0m\n",
            "\u001b[0;31mAttributeError\u001b[0m: 'DataFrame' object has no attribute 'append'"
          ]
        }
      ]
    },
    {
      "cell_type": "code",
      "source": [],
      "metadata": {
        "id": "zeb10A-7uo8O"
      },
      "execution_count": null,
      "outputs": []
    }
  ]
}